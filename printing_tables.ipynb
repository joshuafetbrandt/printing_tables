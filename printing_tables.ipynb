{
 "cells": [
  {
   "cell_type": "markdown",
   "id": "f89c9187-5634-410d-b0c4-87fc1135e52a",
   "metadata": {},
   "source": [
    "### Watermark of File"
   ]
  },
  {
   "cell_type": "code",
   "execution_count": 1,
   "id": "fd263683-7772-4974-9c0e-6264097b9812",
   "metadata": {},
   "outputs": [],
   "source": [
    "# https://github.com/rasbt/watermark#installation-and-updating\n",
    "# need to pip install watermark\n",
    "import watermark "
   ]
  },
  {
   "cell_type": "code",
   "execution_count": 2,
   "id": "671a779c-857e-42e2-942c-ff86dfb28727",
   "metadata": {},
   "outputs": [],
   "source": [
    "%load_ext watermark"
   ]
  },
  {
   "cell_type": "code",
   "execution_count": 3,
   "id": "34231069-20c8-4799-b30f-5b46f7d790fb",
   "metadata": {},
   "outputs": [
    {
     "name": "stdout",
     "output_type": "stream",
     "text": [
      "Last updated: 2022-04-17T00:40:28.519065-07:00\n",
      "\n",
      "Python implementation: CPython\n",
      "Python version       : 3.8.5\n",
      "IPython version      : 8.2.0\n",
      "\n",
      "Compiler    : Clang 10.0.0 \n",
      "OS          : Darwin\n",
      "Release     : 21.3.0\n",
      "Machine     : x86_64\n",
      "Processor   : i386\n",
      "CPU cores   : 12\n",
      "Architecture: 64bit\n",
      "\n"
     ]
    }
   ],
   "source": [
    "%watermark"
   ]
  },
  {
   "cell_type": "code",
   "execution_count": 4,
   "id": "52518b01-fe31-4f77-ac31-36cd8e721007",
   "metadata": {},
   "outputs": [
    {
     "name": "stdout",
     "output_type": "stream",
     "text": [
      "watermark: 2.3.0\n",
      "\n"
     ]
    }
   ],
   "source": [
    "%watermark --iversions"
   ]
  },
  {
   "cell_type": "markdown",
   "id": "e5ed2cd6-4939-4a2c-bc5e-8e546665a56a",
   "metadata": {},
   "source": [
    "### Printing Tables"
   ]
  },
  {
   "cell_type": "markdown",
   "id": "172a4087-c0c4-4bc1-9d87-997a65d434c1",
   "metadata": {},
   "source": [
    "Printing tables is a curiosity in Python. You see it pretty regularly when you do ```conda update anaconda```, but not much outside of that. \n",
    "Here is how you do it Python 3+! The big idea is to use an f-string. \n",
    "\n",
    "I will assume we have a dictionary to print. For simplicity, I will know the structure of the dictionary, but if you didn't, write a function \n",
    "to loop over the elements or other variables you have and get the lengths of each element for printing. "
   ]
  },
  {
   "cell_type": "code",
   "execution_count": 5,
   "id": "9c8c67bb-6648-4611-9890-c309e9bd50dd",
   "metadata": {},
   "outputs": [],
   "source": [
    "# Set up a dictionary to pull data from when we print.\n",
    "d = {0:['This','example'],\n",
    "     1:['shows','how'],\n",
    "     2:['to','print'],\n",
    "     3:['a','table']}"
   ]
  },
  {
   "cell_type": "markdown",
   "id": "b303ac47-354e-414f-ba46-af5aec5508f0",
   "metadata": {},
   "source": []
  },
  {
   "cell_type": "markdown",
   "id": "24a7f5b8-e6df-4b96-a390-f760fd6abfb1",
   "metadata": {},
   "source": [
    "Notice that each key contains a list with two elements. The maximum word length in each position of the lists across all of the lists is [5,7]. The\n",
    "length of each key value is 1.\n",
    "\n",
    "The second thing you need to determine is how much space you want between each column and if you want a vertical separator in each column. I \n",
    "personally like 5 spaces between each column no vertical separator. Finally, you need to determine the actual column headers so you can set up the \n",
    "full set of length separators. For simplicity, I will make the column headers 'Key', 'Column 1', and 'Column 2'. The lengths of these headers are \n",
    "3, 8, and 8, respectively. Knowing these things, we can think about the final structure of the table.  \n",
    "\n",
    "At a high level, the basic idea is to print a header, print a horizontal dividing line, and then print each row in succesion by setting up the \n",
    "column features. To do this accurately, we need to think of the table in terms of characters in each line of the print. Consider the layout below that\n",
    "documents the length of each row. The + signs document blank space in the final table. \n",
    "\n",
    "```\n",
    "Key+++++Column 1+++++Column 2\n",
    "-----------------------------\n",
    "0+++++++This+++++++++example+\n",
    "1+++++++shows++++++++how+++++\n",
    "2+++++++to+++++++++++print+++\n",
    "3+++++++a++++++++++++table+++\n",
    "```\n",
    "\n",
    "In my experience, it is easiest to think about the header row in chunks; the number of chunks is equal to the number of columns, and length of each\n",
    "chunk is the length of the header plus the space between columns. So in our example, you get three chunks with lengths as shown:\n",
    "\n",
    "```\n",
    "Key+++++\n",
    "len(Key+++++) = 8\n",
    "\n",
    "Column 1+++++\n",
    "len(Column 1+++++) = 13\n",
    "\n",
    "Column 2\n",
    "len(Column 2) = 8\n",
    "```\n",
    "\n",
    "You use this information to format the f-string for the header. When you format the f-string, you will see the three structures that look like \n",
    "```{str_var:<#}```. This structure tells the f-string to left justify (```<```) a block of characters of length ```#``` to display ```str_var```, \n",
    "which could be a variable or an actual string; in this situation, if ```len(str_var) < #```, then blank space equal to ```# - len(str_var)``` will \n",
    "be inserted to give a total length of ```#```. The line of dashes below the header should be the total length of all columns."
   ]
  },
  {
   "cell_type": "code",
   "execution_count": 6,
   "id": "7d10c77e-ff8e-4b37-93d6-b1dcd00348d2",
   "metadata": {},
   "outputs": [
    {
     "name": "stdout",
     "output_type": "stream",
     "text": [
      "Key     Column 1     Column 2\n",
      "-----------------------------\n"
     ]
    }
   ],
   "source": [
    "print(f'{\"Key\":<8}{\"Column 1\":<13}{\"Column 2\":<8}')\n",
    "print('-' * (8 + 13 + 8))"
   ]
  },
  {
   "cell_type": "markdown",
   "id": "b81bda6f-eeb7-401d-b57f-46228fa6d0bf",
   "metadata": {},
   "source": [
    "Finally, the trick is to loop over all entries in the dictionary and build rows that look like the header row. The full code is below."
   ]
  },
  {
   "cell_type": "code",
   "execution_count": 7,
   "id": "b8351f01-b2a4-442a-b5ad-7f6be70f8d2f",
   "metadata": {},
   "outputs": [
    {
     "name": "stdout",
     "output_type": "stream",
     "text": [
      "Key     Column 1     Column 2\n",
      "-----------------------------\n",
      "0       This         example \n",
      "1       shows        how     \n",
      "2       to           print   \n",
      "3       a            table   \n"
     ]
    }
   ],
   "source": [
    "d = {0:['This','example'],\n",
    "     1:['shows','how'],\n",
    "     2:['to','print'],\n",
    "     3:['a','table']}\n",
    "\n",
    "print(f'{\"Key\":8}{\"Column 1\":13}{\"Column 2\":8}')\n",
    "print('-' * (8 + 13 + 8))\n",
    "for k, v in d.items():\n",
    "    print(f'{k:<8}{v[0]:<13}{v[1]:<8}')"
   ]
  },
  {
   "cell_type": "code",
   "execution_count": null,
   "id": "137efd45-466e-4ac0-ba85-ffe6b699778f",
   "metadata": {},
   "outputs": [],
   "source": []
  }
 ],
 "metadata": {
  "kernelspec": {
   "display_name": "Python 3 (ipykernel)",
   "language": "python",
   "name": "python3"
  },
  "language_info": {
   "codemirror_mode": {
    "name": "ipython",
    "version": 3
   },
   "file_extension": ".py",
   "mimetype": "text/x-python",
   "name": "python",
   "nbconvert_exporter": "python",
   "pygments_lexer": "ipython3",
   "version": "3.8.5"
  }
 },
 "nbformat": 4,
 "nbformat_minor": 5
}
