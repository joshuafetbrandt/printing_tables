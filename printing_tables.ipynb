{
 "cells": [
  {
   "cell_type": "markdown",
   "id": "f89c9187-5634-410d-b0c4-87fc1135e52a",
   "metadata": {},
   "source": [
    "### Watermark of File"
   ]
  },
  {
   "cell_type": "code",
   "execution_count": 1,
   "id": "fd263683-7772-4974-9c0e-6264097b9812",
   "metadata": {},
   "outputs": [],
   "source": [
    "# https://github.com/rasbt/watermark#installation-and-updating\n",
    "# need to pip install watermark\n",
    "import watermark "
   ]
  },
  {
   "cell_type": "code",
   "execution_count": 2,
   "id": "671a779c-857e-42e2-942c-ff86dfb28727",
   "metadata": {},
   "outputs": [],
   "source": [
    "%load_ext watermark"
   ]
  },
  {
   "cell_type": "code",
   "execution_count": 3,
   "id": "34231069-20c8-4799-b30f-5b46f7d790fb",
   "metadata": {},
   "outputs": [
    {
     "name": "stdout",
     "output_type": "stream",
     "text": [
      "Last updated: 2022-04-17T10:19:20.704692-07:00\n",
      "\n",
      "Python implementation: CPython\n",
      "Python version       : 3.8.5\n",
      "IPython version      : 8.2.0\n",
      "\n",
      "Compiler    : Clang 10.0.0 \n",
      "OS          : Darwin\n",
      "Release     : 21.3.0\n",
      "Machine     : x86_64\n",
      "Processor   : i386\n",
      "CPU cores   : 12\n",
      "Architecture: 64bit\n",
      "\n"
     ]
    }
   ],
   "source": [
    "%watermark"
   ]
  },
  {
   "cell_type": "code",
   "execution_count": 4,
   "id": "52518b01-fe31-4f77-ac31-36cd8e721007",
   "metadata": {},
   "outputs": [
    {
     "name": "stdout",
     "output_type": "stream",
     "text": [
      "watermark: 2.3.0\n",
      "\n"
     ]
    }
   ],
   "source": [
    "%watermark --iversions"
   ]
  },
  {
   "cell_type": "markdown",
   "id": "e5ed2cd6-4939-4a2c-bc5e-8e546665a56a",
   "metadata": {},
   "source": [
    "### Printing Tables"
   ]
  },
  {
   "cell_type": "markdown",
   "id": "fc6ee253-9517-4157-a99e-96a075977b37",
   "metadata": {},
   "source": [
    "Let's say we have the following dictionary we want to print as a table. "
   ]
  },
  {
   "cell_type": "code",
   "execution_count": 5,
   "id": "9c8c67bb-6648-4611-9890-c309e9bd50dd",
   "metadata": {},
   "outputs": [],
   "source": [
    "d = {0:['This','example'],\n",
    "     1:['shows','how'],\n",
    "     2:['to','print'],\n",
    "     3:['a','table']}"
   ]
  },
  {
   "cell_type": "markdown",
   "id": "172a4087-c0c4-4bc1-9d87-997a65d434c1",
   "metadata": {},
   "source": [
    "At a high level, the basic idea is to print a f-string representing the header, print a horizontal dividing line, and then print a f-string for each row in succesion by setting up the column features. For this all to work, though, you need to determine an amount of horizontal space each column will consume. I do this in five steps:\n",
    "\n",
    "1. Determine the number of columns.\n",
    "2. Determine the amount of blank space between each column, and if you want to use column separators.\n",
    "3. Determine the header row, which allows you to obtain the length of each header.\n",
    "4. Determine the maximum length of table entries in each row.\n",
    "5. Determine the maximum horizontal space contained in each column. \n",
    "\n",
    "For Step (1) in this example, I know I want to print the key and each entry of the resulting list as separate columns; this means I we will have three columns (1 for the key, and 2 for the length of the lists). For Step (2), I know I want 5 spaces between each column and no column separators. For the headers in Step (3), I will make them 'Key', 'Column 1', and 'Column 2', respectively, which gives me header lengths of 3, 8, and 8. In Step (4), considering all the lists, the maximum word length in position 0 is 5 and the maximum word length in position 1 is 7, and the length of each key is 1.\n",
    "\n",
    "This brings us to Step (5). We need to think of the table in terms of characters in each line of the print. Consider the layout below that documents the length of each row. The + signs document blank space in the final table. \n",
    "\n",
    "```\n",
    "Key+++++Column 1+++++Column 2\n",
    "-----------------------------\n",
    "0+++++++This+++++++++example+\n",
    "1+++++++shows++++++++how+++++\n",
    "2+++++++to+++++++++++print+++\n",
    "3+++++++a++++++++++++table+++\n",
    "```\n",
    "\n",
    "In my experience, it is easiest to think about the header row in chunks; the number of chunks is equal to the number of columns, and length of each chunk is the length of the header plus the space between columns. So in our example, you get three chunks with lengths as shown:\n",
    "\n",
    "```\n",
    "Key+++++\n",
    "len(Key+++++) = 8\n",
    "\n",
    "Column 1+++++\n",
    "len(Column 1+++++) = 13\n",
    "\n",
    "Column 2\n",
    "len(Column 2) = 8\n",
    "```\n",
    "\n",
    "Another way I think about this is taking the maximum length in each column and adding the amount of white space between each column to each of these values. For the ```Key``` column we have ```max(1, 3) + 5 = 8```, for ```Column 1``` we have ```max(8, 5) + 5 = 13```, and for ```Column 2``` we have ```max(8, 7) + 5 = 13```. The one slight adjustment you might make is on the \n",
    "last column; there really isn't a reason to extend the space in the last column if you won't use it, so I would adjust the calculation on ```Column 2``` to ```max(8, 7) = 8```.\n",
    "\n",
    "With all of the information, now we can format the f-strings. For the purpose of printing a table, the key is using a collection of structures that look like ```{str_var:<#}```. This structure tells the f-string to left justify (```<```) a block of characters of length ```#``` to display ```str_var```, which could be a variable or an actual string. When we use this structure, if ```len(str_var) < #```, then blank space equal to ```# - len(str_var)``` will be inserted to give a total length of ```#```. The line of dashes below the header should be the total length of all columns.\n",
    "\n",
    "For the headers row, each piece is ```{header_label:<horizontal_space}```. The length of the dashed line is the cumulative horizontal space, and each row of the table is formatted like the header row. This gives us the following code."
   ]
  },
  {
   "cell_type": "code",
   "execution_count": 6,
   "id": "b8351f01-b2a4-442a-b5ad-7f6be70f8d2f",
   "metadata": {},
   "outputs": [
    {
     "name": "stdout",
     "output_type": "stream",
     "text": [
      "Key     Column 1     Column 2\n",
      "-----------------------------\n",
      "0       This         example \n",
      "1       shows        how     \n",
      "2       to           print   \n",
      "3       a            table   \n"
     ]
    }
   ],
   "source": [
    "d = {0:['This','example'],\n",
    "     1:['shows','how'],\n",
    "     2:['to','print'],\n",
    "     3:['a','table']}\n",
    "\n",
    "print(f'{\"Key\":<8}{\"Column 1\":<13}{\"Column 2\":<8}')\n",
    "print('-' * (8 + 13 + 8))\n",
    "for k, v in d.items():\n",
    "    print(f'{k:<8}{v[0]:<13}{v[1]:<8}')"
   ]
  },
  {
   "cell_type": "markdown",
   "id": "09ba585e-d112-487e-8266-a4dc60885403",
   "metadata": {},
   "source": [
    "You could adjust this example to include column separators and fit the columns. One such implementation would be the following. You could also center entries (changing ```<``` to ```^```) in the 'cells'."
   ]
  },
  {
   "cell_type": "code",
   "execution_count": 7,
   "id": "27c4d1d8-33f1-4659-816b-80d228e645e6",
   "metadata": {},
   "outputs": [
    {
     "name": "stdout",
     "output_type": "stream",
     "text": [
      "-----------------------------\n",
      "| Key | Column 1 | Column 2 |\n",
      "-----------------------------\n",
      "|  0  |   This   | example  |\n",
      "|  1  |  shows   |   how    |\n",
      "|  2  |    to    |  print   |\n",
      "|  3  |    a     |  table   |\n",
      "-----------------------------\n"
     ]
    }
   ],
   "source": [
    "d = {0:['This','example'],\n",
    "     1:['shows','how'],\n",
    "     2:['to','print'],\n",
    "     3:['a','table']}\n",
    "\n",
    "print('-' * (5 + 1 + 10 + 1 + 10 + 2))\n",
    "print(f'{\"|\":1}{\" Key \":^5}{\"|\":1}{\" Column 1 \":<10}{\"|\":1}{\" Column 2 \":<10}{\"|\":1}')\n",
    "print('-' * (5 + 1 + 10 + 1 + 10 + 2))\n",
    "for k, v in d.items():\n",
    "    print(f'{\"|\":1}{k:^5}{\"|\":1}{v[0]:^10}{\"|\":1}{v[1]:^9} {\"|\":1}')\n",
    "print('-' * (5 + 1 + 10 + 1 + 10 + 2))"
   ]
  },
  {
   "cell_type": "markdown",
   "id": "eb11afad-1f97-4fc9-8a05-eee822826351",
   "metadata": {},
   "source": [
    "Hopefully you can see why I opt for no separators or borders, but choose to slightly increase the space between each column. These features add hard-to-read formatting in the f-string and make the table hard to read once printed.\n",
    "\n",
    "In this example, I knew the structure of the dictionary because it was so small, but if you didn't, you could write a function to loop over the elements or other variables you have and get the lengths of each element for printing. If you had to do this often, it would be a better solution, but for a one-off, what I did above will suffice."
   ]
  },
  {
   "cell_type": "code",
   "execution_count": null,
   "id": "8a77dcaa-7e2f-47af-a8db-b492f931deb4",
   "metadata": {},
   "outputs": [],
   "source": []
  }
 ],
 "metadata": {
  "kernelspec": {
   "display_name": "Python 3 (ipykernel)",
   "language": "python",
   "name": "python3"
  },
  "language_info": {
   "codemirror_mode": {
    "name": "ipython",
    "version": 3
   },
   "file_extension": ".py",
   "mimetype": "text/x-python",
   "name": "python",
   "nbconvert_exporter": "python",
   "pygments_lexer": "ipython3",
   "version": "3.8.5"
  }
 },
 "nbformat": 4,
 "nbformat_minor": 5
}
